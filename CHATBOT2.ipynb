{
 "cells": [
  {
   "cell_type": "code",
   "execution_count": 1,
   "id": "0b1d3bed",
   "metadata": {},
   "outputs": [],
   "source": [
    "import io\n",
    "import random\n",
    "import string\n",
    "import numpy as np\n",
    "from sklearn.feature_extraction.text import TfidfVectorizer\n",
    "from sklearn.metrics.pairwise import cosine_similarity\n",
    "import warnings\n",
    "warnings.filterwarnings('ignore')"
   ]
  },
  {
   "cell_type": "code",
   "execution_count": 2,
   "id": "f8ac7783",
   "metadata": {},
   "outputs": [
    {
     "data": {
      "text/plain": [
       "True"
      ]
     },
     "execution_count": 2,
     "metadata": {},
     "output_type": "execute_result"
    }
   ],
   "source": [
    "import nltk\n",
    "from nltk.stem import WordNetLemmatizer\n",
    "nltk.download('popular',quiet=True)"
   ]
  },
  {
   "cell_type": "code",
   "execution_count": 3,
   "id": "bb9da990",
   "metadata": {},
   "outputs": [],
   "source": [
    "tokens=[]"
   ]
  },
  {
   "cell_type": "code",
   "execution_count": 4,
   "id": "4dc06451",
   "metadata": {},
   "outputs": [],
   "source": [
    "lemmer=nltk.stem.WordNetLemmatizer()\n",
    "#wordnet is a semantically oriented dictionary of English Included in NLTK\n",
    "def LemTokens(tokens):\n",
    "    return[lemmer.lemmatize(token) for token in tokens]\n",
    "remove_punct_dict=dict((ord(punct),None)for punct in string.punctuation)\n",
    "\n",
    "def LemNormalize(text):\n",
    "    return LemTokens(nltk.word_tokenize(text.lower().translate(remove_punct_dict)))"
   ]
  },
  {
   "cell_type": "code",
   "execution_count": 5,
   "id": "d1fb9866",
   "metadata": {},
   "outputs": [],
   "source": [
    "Greeting_Inputs=(\"hello\",\"hi\",\"greetings\",\"sup\",\"what's up\",\"hey\")\n",
    "Greeting_Responses=[\"hi,how can i be of service?\",\"hey,how can i assist you?\",\"hi there,What do you need?\",\"hello,What do you need?\",\"Welcome,how cani i help you\"]\n",
    "def greeting(sentence):\n",
    "    \n",
    "    for word in sentence.split():\n",
    "        if word.lower() in Greeting_Inputs:\n",
    "            return random.choice(Greeting_Responses)\n",
    "\n",
    "User_Inputs=(\"I'd like to make a booking\",\"booking\",\"need to make a booking\",\"can you tell me about booking?\",\"can i make a booking?\",\n",
    "            \"i need to make a booking\",\"i don't know\",\"tell me about this website\",\"anything\")\n",
    "User_Responses=[\"You are on our travel website,and you can make bookings,Would you like to proceed further?\"]\n",
    "\n",
    "def Booking(sentence):\n",
    "    \n",
    "    for word in sentence.split():\n",
    "            return random.choice(User_Responses)"
   ]
  },
  {
   "cell_type": "code",
   "execution_count": 6,
   "id": "74bce42f",
   "metadata": {},
   "outputs": [],
   "source": [
    "def response(user_response):\n",
    "    robo_response=''\n",
    "    tokens.append(user_response)\n",
    "    TfidfVec = TfidfVectorizer(tokenizer=LemNormalize,stop_words='english')\n",
    "    tfidf=TfidfVec.fit_transform(tokens)\n",
    "    vals=cosine_similarity(tfidf[-1],tfidf)\n",
    "    idx=vals.argsort()[0][-2]\n",
    "    flat=vals.flatten()\n",
    "    flat.sort()\n",
    "    req_tfidf=flat[-2]\n",
    "    if(req_tfidf==0):\n",
    "        robo_response=robo_response + \"I am sorry! I don't understand you\"\n",
    "        return robo_response\n",
    "    else:\n",
    "        robo_response=robo_response+tokens[idx]\n",
    "        return robo_response\n",
    "    "
   ]
  },
  {
   "cell_type": "code",
   "execution_count": 11,
   "id": "3fdedb6d",
   "metadata": {},
   "outputs": [
    {
     "name": "stdout",
     "output_type": "stream",
     "text": [
      "ROBO: My name is ROBO.I will answer your queries,If you want to exit,type 'Bye'\n",
      "ye\n",
      "ROBO:You are on our travel website,and you can make bookings,Would you like to proceed further?\n",
      "hi\n",
      "Thank you for visiting our page\n"
     ]
    }
   ],
   "source": [
    "flag=True\n",
    "x=\"\"\n",
    "print(\"ROBO: My name is ROBO.I will answer your queries,If you want to exit,type 'Bye'\")\n",
    "while(flag==True):\n",
    "    user_response = input()\n",
    "    user_response=user_response.lower()\n",
    "    if(user_response!='bye'):\n",
    "        if(user_response=='thanks' or user_response=='thank you'):\n",
    "            flag=False\n",
    "            print(\"ROBO:You are welcome..\")\n",
    "        else:\n",
    "            if(greeting(user_response)!=None):\n",
    "                print(\"ROBO: \"+greeting(user_response))\n",
    "            elif(user_response!=None):\n",
    "                print(\"ROBO:\"+Booking(user_response))\n",
    "                x=input().lower()\n",
    "                break\n",
    "            else:\n",
    "                print(\"ROBO: \",end=\"\")\n",
    "                print(response(user_response))\n",
    "    else:\n",
    "        flag=False\n",
    "        print(\"ROBO: Bye! take careÆʔ\u001e",
    "v bb....\")\n",
    "rooms=[\"a\",\"b\",\"c\"]\n",
    "\n",
    "def room(x):\n",
    "    \n",
    "    if x not in rooms:\n",
    "        print(\"enter valid choice\")\n",
    "        x=input()\n",
    "        room(x)\n",
    "checkindates=[]\n",
    "def checkin(date):\n",
    "    lis=list(map(int,date))\n",
    "    if len(lis)<3:\n",
    "        print(\"enter valid choice\")\n",
    "        date=input().split()\n",
    "        checkin(date)\n",
    "        checkindates.append(list(map(int,date)))\n",
    "checkoutdates=[]\n",
    "def checkout(date):\n",
    "    lis=list(map(int,date))\n",
    "    if len(lis)<3:\n",
    "        print(\"enter valid choice\")\n",
    "        date=input().split()\n",
    "        checkout(date)\n",
    "        checkoutdates.append(list(map(int,date)))\n",
    "\n",
    "if x==\"yes\":\n",
    "    print(\"Enter User details\")\n",
    "    print(\"What is Your Name:\")\n",
    "    Customer_name =input()\n",
    "    print(\"Please tell us Mobile Number:\")\n",
    "    Customer_Number=input()\n",
    "    print(\"Can you give us your Address:\")\n",
    "    Customer_Address =input()\n",
    "    print(\"Enter ID proof\")\n",
    "    Customer_ID =input()\n",
    "    print(\"Now we go to your booking\")\n",
    "    print(\"We have 3 type of stays:\")\n",
    "    print(\"a.Single room\\nb.Suite\\n c.hall.Which one would you like to book?\")\n",
    "    roomtype=input()\n",
    "    room(roomtype)\n",
    "    print(\"enter check-in date [DD MM YY]\")\n",
    "    checkindate=input().split()\n",
    "    checkin(checkindate)\n",
    "    print(\"enter check-out date [DD MM YY]\")\n",
    "    checkoutdate=input().split()\n",
    "    checkout(checkoutdate)\n",
    "    print(\"You have booked for checkin dates:\",checkindates,\"\\n\",\"checkout dates:\",checkoutdates)\n",
    "else:\n",
    "    print(\"Thank you for visiting our page\")\n",
    "\n",
    "    "
   ]
  },
  {
   "cell_type": "markdown",
   "id": "104397db",
   "metadata": {},
   "source": [
    "# Customer Name, Mobile Number, Address, ID proof,\n",
    " and Room Type \n",
    " and date of arrival and departure date. "
   ]
  },
  {
   "cell_type": "code",
   "execution_count": null,
   "id": "3697232a",
   "metadata": {},
   "outputs": [],
   "source": []
  },
  {
   "cell_type": "code",
   "execution_count": null,
   "id": "439f32f6",
   "metadata": {},
   "outputs": [],
   "source": []
  }
 ],
 "metadata": {
  "kernelspec": {
   "display_name": "Python 3 (ipykernel)",
   "language": "python",
   "name": "python3"
  },
  "language_info": {
   "codemirror_mode": {
    "name": "ipython",
    "version": 3
   },
   "file_extension": ".py",
   "mimetype": "text/x-python",
   "name": "python",
   "nbconvert_exporter": "python",
   "pygments_lexer": "ipython3",
   "version": "3.9.12"
  }
 },
 "nbformat": 4,
 "nbformat_minor": 5
}
