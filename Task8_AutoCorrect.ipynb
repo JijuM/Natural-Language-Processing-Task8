{
 "cells": [
  {
   "cell_type": "code",
   "execution_count": 1,
   "id": "4c62e304",
   "metadata": {},
   "outputs": [],
   "source": [
    "from textblob import Word\n",
    "from textblob import TextBlob"
   ]
  },
  {
   "cell_type": "code",
   "execution_count": 2,
   "id": "4d1360c6",
   "metadata": {},
   "outputs": [
    {
     "name": "stdout",
     "output_type": "stream",
     "text": [
      "Apple\n"
     ]
    }
   ],
   "source": [
    "\n",
    "def correct_spelling(sentence):\n",
    "    \n",
    "    sentence = TextBlob(sentence)\n",
    "    \n",
    "    result = sentence.correct()\n",
    "    \n",
    "    print(result)\n"
   ]
  },
  {
   "cell_type": "code",
   "execution_count": 3,
   "id": "cd3b064c",
   "metadata": {},
   "outputs": [],
   "source": [
    "Incorrect_words=['accomodation','adress','wether','rehersal','commited','persue','occurence']"
   ]
  },
  {
   "cell_type": "code",
   "execution_count": 4,
   "id": "85055f09",
   "metadata": {},
   "outputs": [],
   "source": [
    "Incorrect_Sents=[\"I am a boi\",'I am having breade',' He doed not have a laptup.','Does she have a kar?']"
   ]
  },
  {
   "cell_type": "code",
   "execution_count": 5,
   "id": "3a218232",
   "metadata": {},
   "outputs": [
    {
     "name": "stdout",
     "output_type": "stream",
     "text": [
      "accommodation\n",
      "dress\n",
      "whether\n",
      "reversal\n",
      "committed\n",
      "pursue\n",
      "occurrence\n"
     ]
    }
   ],
   "source": [
    "for i in Incorrect_words:\n",
    "    correct_spelling(i)"
   ]
  },
  {
   "cell_type": "code",
   "execution_count": 6,
   "id": "1444f1b8",
   "metadata": {},
   "outputs": [
    {
     "name": "stdout",
     "output_type": "stream",
     "text": [
      "I am a boy\n",
      "I am having bread\n",
      " He does not have a laptup.\n",
      "Does she have a war?\n"
     ]
    }
   ],
   "source": [
    "for i in Incorrect_Sents:\n",
    "    correct_spelling(i)"
   ]
  },
  {
   "cell_type": "code",
   "execution_count": null,
   "id": "d1d94c6d",
   "metadata": {},
   "outputs": [],
   "source": []
  }
 ],
 "metadata": {
  "kernelspec": {
   "display_name": "Python 3 (ipykernel)",
   "language": "python",
   "name": "python3"
  },
  "language_info": {
   "codemirror_mode": {
    "name": "ipython",
    "version": 3
   },
   "file_extension": ".py",
   "mimetype": "text/x-python",
   "name": "python",
   "nbconvert_exporter": "python",
   "pygments_lexer": "ipython3",
   "version": "3.9.12"
  }
 },
 "nbformat": 4,
 "nbformat_minor": 5
}
