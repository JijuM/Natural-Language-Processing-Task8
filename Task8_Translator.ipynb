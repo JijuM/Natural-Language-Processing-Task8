{
 "cells": [
  {
   "cell_type": "code",
   "execution_count": 1,
   "id": "70f07c6a",
   "metadata": {},
   "outputs": [],
   "source": [
    "import pandas as pd\n",
    "import numpy as np\n",
    "import googletrans\n",
    "from translate import Translator\n",
    "from deep_translator import GoogleTranslator"
   ]
  },
  {
   "cell_type": "code",
   "execution_count": 2,
   "id": "d48fd9cb",
   "metadata": {},
   "outputs": [],
   "source": [
    "df=pd.read_csv(\"english.csv\")"
   ]
  },
  {
   "cell_type": "code",
   "execution_count": 3,
   "id": "ba9a7ccf",
   "metadata": {},
   "outputs": [
    {
     "data": {
      "text/html": [
       "<div>\n",
       "<style scoped>\n",
       "    .dataframe tbody tr th:only-of-type {\n",
       "        vertical-align: middle;\n",
       "    }\n",
       "\n",
       "    .dataframe tbody tr th {\n",
       "        vertical-align: top;\n",
       "    }\n",
       "\n",
       "    .dataframe thead th {\n",
       "        text-align: right;\n",
       "    }\n",
       "</style>\n",
       "<table border=\"1\" class=\"dataframe\">\n",
       "  <thead>\n",
       "    <tr style=\"text-align: right;\">\n",
       "      <th></th>\n",
       "      <th>English words/sentences</th>\n",
       "    </tr>\n",
       "  </thead>\n",
       "  <tbody>\n",
       "    <tr>\n",
       "      <th>0</th>\n",
       "      <td>Hi.</td>\n",
       "    </tr>\n",
       "    <tr>\n",
       "      <th>1</th>\n",
       "      <td>Run!</td>\n",
       "    </tr>\n",
       "    <tr>\n",
       "      <th>2</th>\n",
       "      <td>Run!</td>\n",
       "    </tr>\n",
       "    <tr>\n",
       "      <th>3</th>\n",
       "      <td>Who?</td>\n",
       "    </tr>\n",
       "    <tr>\n",
       "      <th>4</th>\n",
       "      <td>Wow!</td>\n",
       "    </tr>\n",
       "  </tbody>\n",
       "</table>\n",
       "</div>"
      ],
      "text/plain": [
       "  English words/sentences\n",
       "0                     Hi.\n",
       "1                    Run!\n",
       "2                    Run!\n",
       "3                    Who?\n",
       "4                    Wow!"
      ]
     },
     "execution_count": 3,
     "metadata": {},
     "output_type": "execute_result"
    }
   ],
   "source": [
    "df.head()"
   ]
  },
  {
   "cell_type": "code",
   "execution_count": 4,
   "id": "339cdf75",
   "metadata": {},
   "outputs": [],
   "source": [
    "x=df[\"English words/sentences\"].to_list()"
   ]
  },
  {
   "cell_type": "code",
   "execution_count": 5,
   "id": "84e883a6",
   "metadata": {},
   "outputs": [
    {
     "data": {
      "text/plain": [
       "175621"
      ]
     },
     "execution_count": 5,
     "metadata": {},
     "output_type": "execute_result"
    }
   ],
   "source": [
    "len(x)"
   ]
  },
  {
   "cell_type": "code",
   "execution_count": 6,
   "id": "ec1e913c",
   "metadata": {},
   "outputs": [
    {
     "data": {
      "text/plain": [
       "'french=[]\\nspanish=[]\\ngerman=[]\\nfor i in x[:5]:\\n    translator1 = Translator(from_lang=\\'en\\', to_lang=\\'fr\\')\\n    translator2 = Translator(from_lang=\\'en\\', to_lang=\\'es\\')\\n    translator3 = Translator(from_lang=\\'en\\',to_lang=\"German\")\\n    translation1 = translator1.translate(\"i\")\\n    french.append(translation1)\\n    translation2=translator2.translate(\"i\")\\n    spanish.append(translation2)\\n    translation3=translator3.translate(\"i\")\\n    german.append(translation3)'"
      ]
     },
     "execution_count": 6,
     "metadata": {},
     "output_type": "execute_result"
    }
   ],
   "source": [
    "'''french=[]\n",
    "spanish=[]\n",
    "german=[]\n",
    "for i in x[:5]:\n",
    "    translator1 = Translator(from_lang='en', to_lang='fr')\n",
    "    translator2 = Translator(from_lang='en', to_lang='es')\n",
    "    translator3 = Translator(from_lang='en',to_lang=\"German\")\n",
    "    translation1 = translator1.translate(\"i\")\n",
    "    french.append(translation1)\n",
    "    translation2=translator2.translate(\"i\")\n",
    "    spanish.append(translation2)\n",
    "    translation3=translator3.translate(\"i\")\n",
    "    german.append(translation3)'''"
   ]
  },
  {
   "cell_type": "code",
   "execution_count": null,
   "id": "4d1704bb",
   "metadata": {},
   "outputs": [],
   "source": []
  },
  {
   "cell_type": "code",
   "execution_count": null,
   "id": "8071ebc5",
   "metadata": {},
   "outputs": [],
   "source": []
  },
  {
   "cell_type": "code",
   "execution_count": 7,
   "id": "25ab5166",
   "metadata": {},
   "outputs": [],
   "source": [
    "x=set(x)"
   ]
  },
  {
   "cell_type": "code",
   "execution_count": 8,
   "id": "0be67f03",
   "metadata": {},
   "outputs": [
    {
     "name": "stdout",
     "output_type": "stream",
     "text": [
      "['We are looking for a place to stay.', \"We'll need a lot of help.\", 'We should ban advertising aimed towards children.', \"Why don't you meet me out front in a few minutes?\", 'Tom seems nice.', 'She advised him not to eat between meals.', 'I was very tired so I went to bed early.', 'He can speak Japanese.', 'He put me in touch with the kidnappers.', 'She bought a new car.', \"Who's able to explain this to me?\", 'A famous architect built this house.', 'No sooner had I left the house than it started to rain.', 'I believe it.', 'She gave me a shirt.']\n"
     ]
    }
   ],
   "source": [
    "x=list(x)\n",
    "print(x[:15])"
   ]
  },
  {
   "cell_type": "code",
   "execution_count": 10,
   "id": "3758f0aa",
   "metadata": {},
   "outputs": [],
   "source": [
    "french=[]\n",
    "for i in x:\n",
    "    translated1 = GoogleTranslator(source='auto', target='fr').translate(i)\n",
    "    french.append(translated1)"
   ]
  },
  {
   "cell_type": "code",
   "execution_count": null,
   "id": "84f6cb5b",
   "metadata": {},
   "outputs": [],
   "source": [
    "\n",
    "spanish=[]\n",
    "\n",
    "for i in x:\n",
    "    translated2 = GoogleTranslator(target='es').translate(i)\n",
    "    spanish.append(translated2)"
   ]
  },
  {
   "cell_type": "code",
   "execution_count": null,
   "id": "8f3b9d01",
   "metadata": {},
   "outputs": [],
   "source": [
    "\n",
    "german=[]\n",
    "for i in x:\n",
    "    translated3 = GoogleTranslator(source='auto', target='de').translate(i)\n",
    "    german.append(translated3)"
   ]
  },
  {
   "cell_type": "code",
   "execution_count": null,
   "id": "7b16b089",
   "metadata": {},
   "outputs": [],
   "source": [
    "\n",
    "#alternate Code\n",
    "target_languages=[\"de\",'fr','spanish']\n",
    "translated_outputs =[]\n",
    "for j in x[:100]:\n",
    "    for target_language in target_languages:\n",
    "        translated_outputs.append(GoogleTranslator(source=\"auto\",target=target_language).translate(j))"
   ]
  },
  {
   "cell_type": "code",
   "execution_count": null,
   "id": "273c985d",
   "metadata": {},
   "outputs": [],
   "source": []
  },
  {
   "cell_type": "code",
   "execution_count": null,
   "id": "a8c664d7",
   "metadata": {},
   "outputs": [],
   "source": []
  }
 ],
 "metadata": {
  "kernelspec": {
   "display_name": "Python 3 (ipykernel)",
   "language": "python",
   "name": "python3"
  },
  "language_info": {
   "codemirror_mode": {
    "name": "ipython",
    "version": 3
   },
   "file_extension": ".py",
   "mimetype": "text/x-python",
   "name": "python",
   "nbconvert_exporter": "python",
   "pygments_lexer": "ipython3",
   "version": "3.9.12"
  }
 },
 "nbformat": 4,
 "nbformat_minor": 5
}
