{
 "cells": [
  {
   "cell_type": "code",
   "execution_count": null,
   "id": "82bbec1d",
   "metadata": {},
   "outputs": [],
   "source": [
    "!pip install docx2txt\n",
    "import docx2txt"
   ]
  },
  {
   "cell_type": "code",
   "execution_count": null,
   "id": "e72b9bf9",
   "metadata": {},
   "outputs": [],
   "source": [
    "resume=docx2txt.process('JIJU_JOSEPH_CV_N0V.docx')"
   ]
  },
  {
   "cell_type": "code",
   "execution_count": null,
   "id": "59cfbc04",
   "metadata": {},
   "outputs": [],
   "source": [
    "print(resume)"
   ]
  },
  {
   "cell_type": "code",
   "execution_count": null,
   "id": "bda09376",
   "metadata": {},
   "outputs": [],
   "source": [
    "Job_description= open(\"Job_desc.txt\",\"w+\")"
   ]
  },
  {
   "cell_type": "code",
   "execution_count": null,
   "id": "99b89459",
   "metadata": {},
   "outputs": [],
   "source": [
    "x=[\"Machine Learning,Python,B.tech,Data,Natural Language Processing\"]\n",
    "for i in x:\n",
    "    Job_description.write(i)"
   ]
  },
  {
   "cell_type": "code",
   "execution_count": null,
   "id": "8e0559c0",
   "metadata": {},
   "outputs": [],
   "source": [
    "Job_description.close()"
   ]
  },
  {
   "cell_type": "code",
   "execution_count": null,
   "id": "59f7fa89",
   "metadata": {},
   "outputs": [],
   "source": [
    "Job_desc = open(r\"Job_desc.txt\",\"r\")"
   ]
  },
  {
   "cell_type": "code",
   "execution_count": null,
   "id": "c3073e55",
   "metadata": {},
   "outputs": [],
   "source": [
    "job=Job_desc.read()"
   ]
  },
  {
   "cell_type": "code",
   "execution_count": null,
   "id": "32a50ef9",
   "metadata": {},
   "outputs": [],
   "source": [
    "print(resume)"
   ]
  },
  {
   "cell_type": "code",
   "execution_count": null,
   "id": "35ccaca4",
   "metadata": {},
   "outputs": [],
   "source": [
    "print(job)"
   ]
  },
  {
   "cell_type": "code",
   "execution_count": null,
   "id": "8b4575f6",
   "metadata": {},
   "outputs": [],
   "source": [
    "content=[resume,job]"
   ]
  },
  {
   "cell_type": "code",
   "execution_count": null,
   "id": "84100c14",
   "metadata": {},
   "outputs": [],
   "source": [
    "from sklearn.feature_extraction.text import CountVectorizer\n",
    "cv=CountVectorizer()\n",
    "matrix=cv.fit_transform(content)"
   ]
  },
  {
   "cell_type": "code",
   "execution_count": null,
   "id": "48dc2789",
   "metadata": {},
   "outputs": [],
   "source": [
    "from sklearn.metrics.pairwise import cosine_similarity\n",
    "similarity_matrix=cosine_similarity(matrix)"
   ]
  },
  {
   "cell_type": "code",
   "execution_count": null,
   "id": "eae5439e",
   "metadata": {},
   "outputs": [],
   "source": [
    "print(similarity_matrix)"
   ]
  },
  {
   "cell_type": "code",
   "execution_count": null,
   "id": "68b029cb",
   "metadata": {},
   "outputs": [],
   "source": [
    "print('Resume matches by :'+str(similarity_matrix[1][0]*100)+'%')"
   ]
  },
  {
   "cell_type": "code",
   "execution_count": null,
   "id": "f8a9bfdf",
   "metadata": {},
   "outputs": [],
   "source": []
  }
 ],
 "metadata": {
  "kernelspec": {
   "display_name": "Python 3 (ipykernel)",
   "language": "python",
   "name": "python3"
  },
  "language_info": {
   "codemirror_mode": {
    "name": "ipython",
    "version": 3
   },
   "file_extension": ".py",
   "mimetype": "text/x-python",
   "name": "python",
   "nbconvert_exporter": "python",
   "pygments_lexer": "ipython3",
   "version": "3.9.12"
  }
 },
 "nbformat": 4,
 "nbformat_minor": 5
}
