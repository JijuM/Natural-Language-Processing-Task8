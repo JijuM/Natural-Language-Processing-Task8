{
 "cells": [
  {
   "cell_type": "code",
   "execution_count": 1,
   "id": "be0139c1",
   "metadata": {},
   "outputs": [
    {
     "name": "stdout",
     "output_type": "stream",
     "text": [
      "Requirement already satisfied: docx2txt in /Users/jijujoseph/opt/anaconda3/lib/python3.9/site-packages (0.8)\r\n"
     ]
    }
   ],
   "source": [
    "!pip install docx2txt\n",
    "import docx2txt"
   ]
  },
  {
   "cell_type": "code",
   "execution_count": 2,
   "id": "672889fe",
   "metadata": {},
   "outputs": [],
   "source": [
    "resume=docx2txt.process('JIJU_JOSEPH_CV_N0V.docx')"
   ]
  },
  {
   "cell_type": "code",
   "execution_count": 4,
   "id": "ad23243e",
   "metadata": {},
   "outputs": [],
   "source": [
    "Job_description= open(\"Job_desc.txt\",\"w+\")"
   ]
  },
  {
   "cell_type": "code",
   "execution_count": 5,
   "id": "292e14d4",
   "metadata": {},
   "outputs": [],
   "source": [
    "x=[\"Machine Learning,Python,B.tech,Data,Natural Language Processing\"]\n",
    "for i in x:\n",
    "    Job_description.write(i)"
   ]
  },
  {
   "cell_type": "code",
   "execution_count": 6,
   "id": "d811a03f",
   "metadata": {},
   "outputs": [],
   "source": [
    "Job_description.close()"
   ]
  },
  {
   "cell_type": "code",
   "execution_count": 7,
   "id": "c491d0e7",
   "metadata": {},
   "outputs": [],
   "source": [
    "Job_desc = open(r\"Job_desc.txt\",\"r\")"
   ]
  },
  {
   "cell_type": "code",
   "execution_count": 8,
   "id": "4e54a315",
   "metadata": {},
   "outputs": [],
   "source": [
    "job=Job_desc.read()"
   ]
  },
  {
   "cell_type": "code",
   "execution_count": 10,
   "id": "2cfbc507",
   "metadata": {},
   "outputs": [
    {
     "name": "stdout",
     "output_type": "stream",
     "text": [
      "Machine Learning,Python,B.tech,Data,Natural Language Processing\n"
     ]
    }
   ],
   "source": [
    "print(job)"
   ]
  },
  {
   "cell_type": "code",
   "execution_count": 11,
   "id": "7098c77b",
   "metadata": {},
   "outputs": [],
   "source": [
    "content=[resume,job]"
   ]
  },
  {
   "cell_type": "code",
   "execution_count": 12,
   "id": "2843c31c",
   "metadata": {},
   "outputs": [],
   "source": [
    "from sklearn.feature_extraction.text import CountVectorizer\n",
    "cv=CountVectorizer()\n",
    "matrix=cv.fit_transform(content)"
   ]
  },
  {
   "cell_type": "code",
   "execution_count": 13,
   "id": "b3d2c0bd",
   "metadata": {},
   "outputs": [],
   "source": [
    "from sklearn.metrics.pairwise import cosine_similarity\n",
    "similarity_matrix=cosine_similarity(matrix)"
   ]
  },
  {
   "cell_type": "code",
   "execution_count": 14,
   "id": "a30ae263",
   "metadata": {},
   "outputs": [
    {
     "name": "stdout",
     "output_type": "stream",
     "text": [
      "[[1.         0.11278641]\n",
      " [0.11278641 1.        ]]\n"
     ]
    }
   ],
   "source": [
    "print(similarity_matrix)"
   ]
  },
  {
   "cell_type": "code",
   "execution_count": 15,
   "id": "a48e8525",
   "metadata": {},
   "outputs": [
    {
     "name": "stdout",
     "output_type": "stream",
     "text": [
      "Resume matches by :11.2786407689321%\n"
     ]
    }
   ],
   "source": [
    "print('Resume matches by :'+str(similarity_matrix[1][0]*100)+'%')"
   ]
  },
  {
   "cell_type": "code",
   "execution_count": null,
   "id": "3f6171ed",
   "metadata": {},
   "outputs": [],
   "source": []
  }
 ],
 "metadata": {
  "kernelspec": {
   "display_name": "Python 3 (ipykernel)",
   "language": "python",
   "name": "python3"
  },
  "language_info": {
   "codemirror_mode": {
    "name": "ipython",
    "version": 3
   },
   "file_extension": ".py",
   "mimetype": "text/x-python",
   "name": "python",
   "nbconvert_exporter": "python",
   "pygments_lexer": "ipython3",
   "version": "3.9.12"
  }
 },
 "nbformat": 4,
 "nbformat_minor": 5
}
