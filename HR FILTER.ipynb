{
 "cells": [
  {
   "cell_type": "code",
   "execution_count": 1,
   "id": "6a49f535",
   "metadata": {},
   "outputs": [
    {
     "name": "stdout",
     "output_type": "stream",
     "text": [
      "Requirement already satisfied: docx2txt in /Users/jijujoseph/opt/anaconda3/lib/python3.9/site-packages (0.8)\r\n"
     ]
    }
   ],
   "source": [
    "!pip install docx2txt\n",
    "import docx2txt"
   ]
  },
  {
   "cell_type": "code",
   "execution_count": 2,
   "id": "cd19cf41",
   "metadata": {},
   "outputs": [],
   "source": [
    "resume=docx2txt.process('JIJU_JOSEPH_CV_N0V.docx')"
   ]
  },
  {
   "cell_type": "code",
   "execution_count": 3,
   "id": "17e0fda8",
   "metadata": {},
   "outputs": [
    {
     "name": "stdout",
     "output_type": "stream",
     "text": [
      "TECHNICAL SKILLS:\n",
      "\n",
      "\tProgramming: C, C++, Python\n",
      "\n",
      "\tMachine Learning\n",
      "\n",
      "\tNatural Language Processing\n",
      "\n",
      "\tBig Data\n",
      "\n",
      "\tData engineering\n",
      "\n",
      "\n",
      "\n",
      "TOOLS AND IDE:\n",
      "\n",
      "                                                                      \n",
      "\n",
      "\tMS EXCEL\n",
      "\n",
      "\tMongoDB\n",
      "\n",
      "\tMatplotlib\n",
      "\n",
      "\tPandas\n",
      "\n",
      "\tTableau\n",
      "\n",
      "\tPowerBI\n",
      "\n",
      "\tSolidworks,Solidedge\n",
      "\n",
      "\t\n",
      "\n",
      "CERTIFCATIONS:\n",
      "\n",
      "\n",
      "\n",
      "\tCurrently pursuing a \n",
      "Data Science Certification\n",
      "course from IIT-Madras(GUVI)\n",
      "\n",
      "\n",
      "\n",
      "SOFT SKILLS:\n",
      "\n",
      "\n",
      "\n",
      "\tProblem solver\n",
      "\n",
      "\tQuick learner\n",
      "\n",
      "\tSelf-motivated\n",
      "\n",
      "\n",
      "\n",
      "Co- Curricular and Extra- Curricular Activities\n",
      "\n",
      "2.\n",
      "\n",
      "Nominated School Pupil’s \n",
      "Leader and Elected best Out-going student in 10th Grade.\n",
      "\n",
      "Self-taught guitarist (Learnt by watching hundreds of YouTube Videos.\n",
      "\n",
      "Attended Carnatic singing classes.\n",
      "\n",
      "\n",
      "\n",
      "\n",
      "Jiju Joseph\n",
      "\n",
      "Engineer, Data Scientist\n",
      "\n",
      "\t\t     9036422482\t\t p.jijujoseph@gmail.com\t\n",
      "  Jiju Joseph                            Github- https://github.com/JijuM\n",
      "\n",
      "\t\t          Near Vibgyor School, Harlur campus,Bengaluru.pin-560035\n",
      "\n",
      "CAREER OBJECTIVE\n",
      "\n",
      "\n",
      "\n",
      "\n",
      "\n",
      "To constantly learn new technologies, apply them, express my ideas and dedicate myself for betterment of the organization as well as society.\n",
      "\n",
      "WORK EXPERIENCE\n",
      "\n",
      "\n",
      "\n",
      "Expedia at  24[7] \n",
      "\n",
      "Customer Support Executive                      \n",
      "\n",
      "Bengaluru, Karnataka      | June 2017-December 2017\n",
      "\n",
      "Was offered SME(Subject Matter Expert) role by the Manager. \n",
      "\n",
      "\n",
      "\n",
      "Dunzo         \n",
      "\n",
      "Operations Executive                                  \n",
      "\n",
      "Bengaluru , Karnataka     |  March 2018-April 2019    \n",
      "\n",
      "Integral part of the support team of the Startup for 6 months.\n",
      "\n",
      "As lead of ECR (Executive Community Relations) Team, collected  Data of Users by querying them on SQL, organized them on MS-EXCEL, analyzed details such as task history and Reported the Summary directly to the Executive, Including The C.E.Os\n",
      "\n",
      "Worked with the Inside-sales team and on-boarded 100+ Merchants onto the Dunzo for Business platform in 3 months, which generated revenue for the organization.\n",
      "\n",
      "\n",
      "\n",
      "The Indian Group\n",
      "\n",
      "Operations Supervisor\n",
      "\n",
      "Chittoor, Andhra Pradesh |  October 2020-June 2022    \n",
      "\n",
      "Assisted the clients with management of rented properties related to the Indian Group, Including supervising renovations/repairs, procuring materials, Maintaining accounts, Reporting to the Owner of the properties.\n",
      "\n",
      "PROJECTS \n",
      "\n",
      "\n",
      "\n",
      "\n",
      "\n",
      "1. Designed and formulated an all-terrain vehicle from scratch and competed in the SAEBAJA A.T.V competition, 2016.\n",
      "\n",
      "2. Received “lightest go-kart award” by ELITE-TECHNO groups and placed 8th out of 24 teams, 2016.\n",
      "\n",
      "3. Railway-Track crack detection vehicle”\n",
      "-Goal: To detect cracks and damage on railway tracks, which is largely a Manual task.\n",
      "-Used Micro-processors, IR-sensors and GPS tracking systems.\n",
      "-Produced a model vehicle which detects cracks and sends the G.P.S co-ordinates via message to registered cellphone device.\n",
      "\n",
      "\n",
      "\n",
      "EDUCATION\n",
      "\n",
      "\n",
      "\n",
      "\t\t\t  COURSE            INSTITUTION                      ORGANIZATION \tMARKS\n",
      "\n",
      "\t\t\tB.E (Mech.)          Christ University Faculty    Deemed to be,\t   71.06%\n",
      "    of Engineering, Bengaluru. Autonomous.\n",
      "\n",
      "\t\t\tP.U.C\t     Narayana P. U College,      SSLC                     70%\n",
      "\n",
      "\t\t\t                              Bengaluru.\n",
      "\n",
      "\t\t\t\t 10th Grade            The Indian School Of           SSC                      88.5%\n",
      "                              English, Chittoor.\n"
     ]
    }
   ],
   "source": [
    "print(resume)"
   ]
  },
  {
   "cell_type": "code",
   "execution_count": 4,
   "id": "38a03cb5",
   "metadata": {},
   "outputs": [],
   "source": [
    "Job_description= open(\"Job_desc.txt\",\"w+\")"
   ]
  },
  {
   "cell_type": "code",
   "execution_count": 5,
   "id": "aff00d4b",
   "metadata": {},
   "outputs": [],
   "source": [
    "x=[\"Machine Learning,Python,B.tech,Data,Natural Language Processing\"]\n",
    "for i in x:\n",
    "    Job_description.write(i)"
   ]
  },
  {
   "cell_type": "code",
   "execution_count": 6,
   "id": "982717a9",
   "metadata": {},
   "outputs": [],
   "source": [
    "Job_description.close()"
   ]
  },
  {
   "cell_type": "code",
   "execution_count": 7,
   "id": "892965ce",
   "metadata": {},
   "outputs": [],
   "source": [
    "Job_desc = open(r\"Job_desc.txt\",\"r\")"
   ]
  },
  {
   "cell_type": "code",
   "execution_count": 8,
   "id": "08c84815",
   "metadata": {},
   "outputs": [],
   "source": [
    "job=Job_desc.read()"
   ]
  },
  {
   "cell_type": "code",
   "execution_count": 9,
   "id": "7c01d6a6",
   "metadata": {},
   "outputs": [
    {
     "name": "stdout",
     "output_type": "stream",
     "text": [
      "TECHNICAL SKILLS:\n",
      "\n",
      "\tProgramming: C, C++, Python\n",
      "\n",
      "\tMachine Learning\n",
      "\n",
      "\tNatural Language Processing\n",
      "\n",
      "\tBig Data\n",
      "\n",
      "\tData engineering\n",
      "\n",
      "\n",
      "\n",
      "TOOLS AND IDE:\n",
      "\n",
      "                                                                      \n",
      "\n",
      "\tMS EXCEL\n",
      "\n",
      "\tMongoDB\n",
      "\n",
      "\tMatplotlib\n",
      "\n",
      "\tPandas\n",
      "\n",
      "\tTableau\n",
      "\n",
      "\tPowerBI\n",
      "\n",
      "\tSolidworks,Solidedge\n",
      "\n",
      "\t\n",
      "\n",
      "CERTIFCATIONS:\n",
      "\n",
      "\n",
      "\n",
      "\tCurrently pursuing a \n",
      "Data Science Certification\n",
      "course from IIT-Madras(GUVI)\n",
      "\n",
      "\n",
      "\n",
      "SOFT SKILLS:\n",
      "\n",
      "\n",
      "\n",
      "\tProblem solver\n",
      "\n",
      "\tQuick learner\n",
      "\n",
      "\tSelf-motivated\n",
      "\n",
      "\n",
      "\n",
      "Co- Curricular and Extra- Curricular Activities\n",
      "\n",
      "2.\n",
      "\n",
      "Nominated School Pupil’s \n",
      "Leader and Elected best Out-going student in 10th Grade.\n",
      "\n",
      "Self-taught guitarist (Learnt by watching hundreds of YouTube Videos.\n",
      "\n",
      "Attended Carnatic singing classes.\n",
      "\n",
      "\n",
      "\n",
      "\n",
      "Jiju Joseph\n",
      "\n",
      "Engineer, Data Scientist\n",
      "\n",
      "\t\t     9036422482\t\t p.jijujoseph@gmail.com\t\n",
      "  Jiju Joseph                            Github- https://github.com/JijuM\n",
      "\n",
      "\t\t          Near Vibgyor School, Harlur campus,Bengaluru.pin-560035\n",
      "\n",
      "CAREER OBJECTIVE\n",
      "\n",
      "\n",
      "\n",
      "\n",
      "\n",
      "To constantly learn new technologies, apply them, express my ideas and dedicate myself for betterment of the organization as well as society.\n",
      "\n",
      "WORK EXPERIENCE\n",
      "\n",
      "\n",
      "\n",
      "Expedia at  24[7] \n",
      "\n",
      "Customer Support Executive                      \n",
      "\n",
      "Bengaluru, Karnataka      | June 2017-December 2017\n",
      "\n",
      "Was offered SME(Subject Matter Expert) role by the Manager. \n",
      "\n",
      "\n",
      "\n",
      "Dunzo         \n",
      "\n",
      "Operations Executive                                  \n",
      "\n",
      "Bengaluru , Karnataka     |  March 2018-April 2019    \n",
      "\n",
      "Integral part of the support team of the Startup for 6 months.\n",
      "\n",
      "As lead of ECR (Executive Community Relations) Team, collected  Data of Users by querying them on SQL, organized them on MS-EXCEL, analyzed details such as task history and Reported the Summary directly to the Executive, Including The C.E.Os\n",
      "\n",
      "Worked with the Inside-sales team and on-boarded 100+ Merchants onto the Dunzo for Business platform in 3 months, which generated revenue for the organization.\n",
      "\n",
      "\n",
      "\n",
      "The Indian Group\n",
      "\n",
      "Operations Supervisor\n",
      "\n",
      "Chittoor, Andhra Pradesh |  October 2020-June 2022    \n",
      "\n",
      "Assisted the clients with management of rented properties related to the Indian Group, Including supervising renovations/repairs, procuring materials, Maintaining accounts, Reporting to the Owner of the properties.\n",
      "\n",
      "PROJECTS \n",
      "\n",
      "\n",
      "\n",
      "\n",
      "\n",
      "1. Designed and formulated an all-terrain vehicle from scratch and competed in the SAEBAJA A.T.V competition, 2016.\n",
      "\n",
      "2. Received “lightest go-kart award” by ELITE-TECHNO groups and placed 8th out of 24 teams, 2016.\n",
      "\n",
      "3. Railway-Track crack detection vehicle”\n",
      "-Goal: To detect cracks and damage on railway tracks, which is largely a Manual task.\n",
      "-Used Micro-processors, IR-sensors and GPS tracking systems.\n",
      "-Produced a model vehicle which detects cracks and sends the G.P.S co-ordinates via message to registered cellphone device.\n",
      "\n",
      "\n",
      "\n",
      "EDUCATION\n",
      "\n",
      "\n",
      "\n",
      "\t\t\t  COURSE            INSTITUTION                      ORGANIZATION \tMARKS\n",
      "\n",
      "\t\t\tB.E (Mech.)          Christ University Faculty    Deemed to be,\t   71.06%\n",
      "    of Engineering, Bengaluru. Autonomous.\n",
      "\n",
      "\t\t\tP.U.C\t     Narayana P. U College,      SSLC                     70%\n",
      "\n",
      "\t\t\t                              Bengaluru.\n",
      "\n",
      "\t\t\t\t 10th Grade            The Indian School Of           SSC                      88.5%\n",
      "                              English, Chittoor.\n"
     ]
    }
   ],
   "source": [
    "print(resume)"
   ]
  },
  {
   "cell_type": "code",
   "execution_count": 10,
   "id": "615df104",
   "metadata": {},
   "outputs": [
    {
     "name": "stdout",
     "output_type": "stream",
     "text": [
      "Machine Learning,Python,B.tech,Data,Natural Language Processing\n"
     ]
    }
   ],
   "source": [
    "print(job)"
   ]
  },
  {
   "cell_type": "code",
   "execution_count": 11,
   "id": "3de10778",
   "metadata": {},
   "outputs": [],
   "source": [
    "content=[resume,job]"
   ]
  },
  {
   "cell_type": "code",
   "execution_count": 12,
   "id": "6a831525",
   "metadata": {},
   "outputs": [],
   "source": [
    "from sklearn.feature_extraction.text import CountVectorizer\n",
    "cv=CountVectorizer()\n",
    "matrix=cv.fit_transform(content)"
   ]
  },
  {
   "cell_type": "code",
   "execution_count": 13,
   "id": "e1ae862a",
   "metadata": {},
   "outputs": [],
   "source": [
    "from sklearn.metrics.pairwise import cosine_similarity\n",
    "similarity_matrix=cosine_similarity(matrix)"
   ]
  },
  {
   "cell_type": "code",
   "execution_count": 14,
   "id": "4daaee74",
   "metadata": {},
   "outputs": [
    {
     "name": "stdout",
     "output_type": "stream",
     "text": [
      "[[1.         0.11278641]\n",
      " [0.11278641 1.        ]]\n"
     ]
    }
   ],
   "source": [
    "print(similarity_matrix)"
   ]
  },
  {
   "cell_type": "code",
   "execution_count": 15,
   "id": "c5a66434",
   "metadata": {},
   "outputs": [
    {
     "name": "stdout",
     "output_type": "stream",
     "text": [
      "Resume matches by :11.2786407689321%\n"
     ]
    }
   ],
   "source": [
    "print('Resume matches by :'+str(similarity_matrix[1][0]*100)+'%')"
   ]
  },
  {
   "cell_type": "code",
   "execution_count": null,
   "id": "76c4c949",
   "metadata": {},
   "outputs": [],
   "source": []
  }
 ],
 "metadata": {
  "kernelspec": {
   "display_name": "Python 3 (ipykernel)",
   "language": "python",
   "name": "python3"
  },
  "language_info": {
   "codemirror_mode": {
    "name": "ipython",
    "version": 3
   },
   "file_extension": ".py",
   "mimetype": "text/x-python",
   "name": "python",
   "nbconvert_exporter": "python",
   "pygments_lexer": "ipython3",
   "version": "3.9.12"
  }
 },
 "nbformat": 4,
 "nbformat_minor": 5
}
